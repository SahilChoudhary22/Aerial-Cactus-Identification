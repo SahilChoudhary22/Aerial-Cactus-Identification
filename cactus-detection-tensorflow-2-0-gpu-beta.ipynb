{
 "cells": [
  {
   "cell_type": "markdown",
   "metadata": {},
   "source": [
    "**Importing relevant libraries**"
   ]
  },
  {
   "cell_type": "code",
   "execution_count": 1,
   "metadata": {
    "_cell_guid": "b1076dfc-b9ad-4769-8c92-a6c4dae69d19",
    "_uuid": "8f2839f25d086af736a60e9eeb907d3b93b6e0e5"
   },
   "outputs": [
    {
     "name": "stdout",
     "output_type": "stream",
     "text": [
      "['sample_submission.csv', 'train', 'test', 'train.csv']\n"
     ]
    }
   ],
   "source": [
    "# This Python 3 environment comes with many helpful analytics libraries installed\n",
    "# It is defined by the kaggle/python docker image: https://github.com/kaggle/docker-python\n",
    "# For example, here's several helpful packages to load in \n",
    "\n",
    "import numpy as np # linear algebra\n",
    "import pandas as pd # data processing, CSV file I/O (e.g. pd.read_csv)\n",
    "\n",
    "# Input data files are available in the \"../input/\" directory.\n",
    "# For example, running this (by clicking run or pressing Shift+Enter) will list the files in the input directory\n",
    "import os\n",
    "from os import listdir\n",
    "print(os.listdir(\"../input\"))\n",
    "\n",
    "# Any results you write to the current directory are saved as output.\n",
    "\n",
    "import matplotlib.pyplot as plt\n",
    "import matplotlib.image as mpimg\n"
   ]
  },
  {
   "cell_type": "code",
   "execution_count": 2,
   "metadata": {},
   "outputs": [
    {
     "name": "stdout",
     "output_type": "stream",
     "text": [
      "Collecting tensorflow==2.0.0-beta1\r\n",
      "\u001b[?25l  Downloading https://files.pythonhosted.org/packages/29/6c/2c9a5c4d095c63c2fb37d20def0e4f92685f7aee9243d6aae25862694fd1/tensorflow-2.0.0b1-cp36-cp36m-manylinux1_x86_64.whl (87.9MB)\r\n",
      "\u001b[K     |████████████████████████████████| 87.9MB 528kB/s \r\n",
      "\u001b[?25hRequirement already satisfied: wrapt>=1.11.1 in /opt/conda/lib/python3.6/site-packages (from tensorflow==2.0.0-beta1) (1.11.2)\r\n",
      "Requirement already satisfied: numpy<2.0,>=1.14.5 in /opt/conda/lib/python3.6/site-packages (from tensorflow==2.0.0-beta1) (1.16.4)\r\n",
      "Requirement already satisfied: keras-preprocessing>=1.0.5 in /opt/conda/lib/python3.6/site-packages (from tensorflow==2.0.0-beta1) (1.1.0)\r\n",
      "Collecting tb-nightly<1.14.0a20190604,>=1.14.0a20190603 (from tensorflow==2.0.0-beta1)\r\n",
      "\u001b[?25l  Downloading https://files.pythonhosted.org/packages/a4/96/571b875cd81dda9d5dfa1422a4f9d749e67c0a8d4f4f0b33a4e5f5f35e27/tb_nightly-1.14.0a20190603-py3-none-any.whl (3.1MB)\r\n",
      "\u001b[K     |████████████████████████████████| 3.1MB 33.0MB/s \r\n",
      "\u001b[?25hRequirement already satisfied: grpcio>=1.8.6 in /opt/conda/lib/python3.6/site-packages (from tensorflow==2.0.0-beta1) (1.22.0)\r\n",
      "Requirement already satisfied: keras-applications>=1.0.6 in /opt/conda/lib/python3.6/site-packages (from tensorflow==2.0.0-beta1) (1.0.8)\r\n",
      "Collecting tf-estimator-nightly<1.14.0.dev2019060502,>=1.14.0.dev2019060501 (from tensorflow==2.0.0-beta1)\r\n",
      "\u001b[?25l  Downloading https://files.pythonhosted.org/packages/32/dd/99c47dd007dcf10d63fd895611b063732646f23059c618a373e85019eb0e/tf_estimator_nightly-1.14.0.dev2019060501-py2.py3-none-any.whl (496kB)\r\n",
      "\u001b[K     |████████████████████████████████| 501kB 41.5MB/s \r\n",
      "\u001b[?25hRequirement already satisfied: gast>=0.2.0 in /opt/conda/lib/python3.6/site-packages (from tensorflow==2.0.0-beta1) (0.2.2)\r\n",
      "Requirement already satisfied: six>=1.10.0 in /opt/conda/lib/python3.6/site-packages (from tensorflow==2.0.0-beta1) (1.12.0)\r\n",
      "Requirement already satisfied: wheel>=0.26 in /opt/conda/lib/python3.6/site-packages (from tensorflow==2.0.0-beta1) (0.33.4)\r\n",
      "Requirement already satisfied: protobuf>=3.6.1 in /opt/conda/lib/python3.6/site-packages (from tensorflow==2.0.0-beta1) (3.7.1)\r\n",
      "Requirement already satisfied: absl-py>=0.7.0 in /opt/conda/lib/python3.6/site-packages (from tensorflow==2.0.0-beta1) (0.7.1)\r\n",
      "Requirement already satisfied: termcolor>=1.1.0 in /opt/conda/lib/python3.6/site-packages (from tensorflow==2.0.0-beta1) (1.1.0)\r\n",
      "Requirement already satisfied: google-pasta>=0.1.6 in /opt/conda/lib/python3.6/site-packages (from tensorflow==2.0.0-beta1) (0.1.7)\r\n",
      "Requirement already satisfied: astor>=0.6.0 in /opt/conda/lib/python3.6/site-packages (from tensorflow==2.0.0-beta1) (0.8.0)\r\n",
      "Requirement already satisfied: werkzeug>=0.11.15 in /opt/conda/lib/python3.6/site-packages (from tb-nightly<1.14.0a20190604,>=1.14.0a20190603->tensorflow==2.0.0-beta1) (0.15.4)\r\n",
      "Requirement already satisfied: setuptools>=41.0.0 in /opt/conda/lib/python3.6/site-packages (from tb-nightly<1.14.0a20190604,>=1.14.0a20190603->tensorflow==2.0.0-beta1) (41.0.1)\r\n",
      "Requirement already satisfied: markdown>=2.6.8 in /opt/conda/lib/python3.6/site-packages (from tb-nightly<1.14.0a20190604,>=1.14.0a20190603->tensorflow==2.0.0-beta1) (3.1.1)\r\n",
      "Requirement already satisfied: h5py in /opt/conda/lib/python3.6/site-packages (from keras-applications>=1.0.6->tensorflow==2.0.0-beta1) (2.9.0)\r\n",
      "\u001b[31mERROR: ethnicolr 0.2.1 has requirement tensorflow==1.12.3, but you'll have tensorflow 2.0.0b1 which is incompatible.\u001b[0m\r\n",
      "Installing collected packages: tb-nightly, tf-estimator-nightly, tensorflow\r\n",
      "  Found existing installation: tensorflow 1.14.0\r\n",
      "    Uninstalling tensorflow-1.14.0:\r\n",
      "      Successfully uninstalled tensorflow-1.14.0\r\n",
      "Successfully installed tb-nightly-1.14.0a20190603 tensorflow-2.0.0b1 tf-estimator-nightly-1.14.0.dev2019060501\r\n"
     ]
    }
   ],
   "source": [
    "!pip install tensorflow==2.0.0-beta1\n",
    "\n",
    "from tensorflow.python.ops import control_flow_util\n",
    "control_flow_util.ENABLE_CONTROL_FLOW_V2 = True"
   ]
  },
  {
   "cell_type": "code",
   "execution_count": 3,
   "metadata": {},
   "outputs": [],
   "source": [
    "import tensorflow as tf\n"
   ]
  },
  {
   "cell_type": "markdown",
   "metadata": {},
   "source": [
    "**Checking the data**"
   ]
  },
  {
   "cell_type": "code",
   "execution_count": 4,
   "metadata": {},
   "outputs": [
    {
     "data": {
      "text/plain": [
       "17500"
      ]
     },
     "execution_count": 4,
     "metadata": {},
     "output_type": "execute_result"
    }
   ],
   "source": [
    "training_dir = '../input/train/train/'\n",
    "training_imgs = listdir(training_dir)\n",
    "num_training_imgs = len(training_imgs)\n",
    "num_training_imgs"
   ]
  },
  {
   "cell_type": "markdown",
   "metadata": {},
   "source": [
    " So there are 17500 images in the given data. The labels of these images are saved in 'train.csv' file"
   ]
  },
  {
   "cell_type": "code",
   "execution_count": 5,
   "metadata": {},
   "outputs": [
    {
     "name": "stdout",
     "output_type": "stream",
     "text": [
      "total entries : 17500\n"
     ]
    },
    {
     "data": {
      "text/html": [
       "<div>\n",
       "<style scoped>\n",
       "    .dataframe tbody tr th:only-of-type {\n",
       "        vertical-align: middle;\n",
       "    }\n",
       "\n",
       "    .dataframe tbody tr th {\n",
       "        vertical-align: top;\n",
       "    }\n",
       "\n",
       "    .dataframe thead th {\n",
       "        text-align: right;\n",
       "    }\n",
       "</style>\n",
       "<table border=\"1\" class=\"dataframe\">\n",
       "  <thead>\n",
       "    <tr style=\"text-align: right;\">\n",
       "      <th></th>\n",
       "      <th>has_cactus</th>\n",
       "    </tr>\n",
       "    <tr>\n",
       "      <th>id</th>\n",
       "      <th></th>\n",
       "    </tr>\n",
       "  </thead>\n",
       "  <tbody>\n",
       "    <tr>\n",
       "      <th>0004be2cfeaba1c0361d39e2b000257b.jpg</th>\n",
       "      <td>1</td>\n",
       "    </tr>\n",
       "    <tr>\n",
       "      <th>000c8a36845c0208e833c79c1bffedd1.jpg</th>\n",
       "      <td>1</td>\n",
       "    </tr>\n",
       "    <tr>\n",
       "      <th>000d1e9a533f62e55c289303b072733d.jpg</th>\n",
       "      <td>1</td>\n",
       "    </tr>\n",
       "    <tr>\n",
       "      <th>0011485b40695e9138e92d0b3fb55128.jpg</th>\n",
       "      <td>1</td>\n",
       "    </tr>\n",
       "    <tr>\n",
       "      <th>0014d7a11e90b62848904c1418fc8cf2.jpg</th>\n",
       "      <td>1</td>\n",
       "    </tr>\n",
       "  </tbody>\n",
       "</table>\n",
       "</div>"
      ],
      "text/plain": [
       "                                      has_cactus\n",
       "id                                              \n",
       "0004be2cfeaba1c0361d39e2b000257b.jpg           1\n",
       "000c8a36845c0208e833c79c1bffedd1.jpg           1\n",
       "000d1e9a533f62e55c289303b072733d.jpg           1\n",
       "0011485b40695e9138e92d0b3fb55128.jpg           1\n",
       "0014d7a11e90b62848904c1418fc8cf2.jpg           1"
      ]
     },
     "execution_count": 5,
     "metadata": {},
     "output_type": "execute_result"
    }
   ],
   "source": [
    "train_labels_df = pd.read_csv('../input/train.csv', index_col = 'id')\n",
    "print(\"total entries : \" + str(train_labels_df.size))\n",
    "train_labels_df.head()"
   ]
  },
  {
   "cell_type": "markdown",
   "metadata": {},
   "source": [
    "Calculating the pictures with cactus and without cactus"
   ]
  },
  {
   "cell_type": "code",
   "execution_count": 6,
   "metadata": {},
   "outputs": [
    {
     "data": {
      "text/plain": [
       "1    13136\n",
       "0     4364\n",
       "Name: has_cactus, dtype: int64"
      ]
     },
     "execution_count": 6,
     "metadata": {},
     "output_type": "execute_result"
    }
   ],
   "source": [
    "pd.value_counts(train_labels_df['has_cactus'])"
   ]
  },
  {
   "cell_type": "markdown",
   "metadata": {},
   "source": [
    "Nearly 3 times more pictures have cactus in them as compared to the pictures without cactus"
   ]
  },
  {
   "cell_type": "code",
   "execution_count": 7,
   "metadata": {},
   "outputs": [
    {
     "data": {
      "image/png": "[encoded data removed]",
      "text/plain": [
       "<Figure size 1440x1440 with 12 Axes>"
      ]
     },
     "metadata": {
      "needs_background": "light"
     },
     "output_type": "display_data"
    }
   ],
   "source": [
    "def get_test_image_path(id):\n",
    "    return training_dir + id\n",
    "\n",
    "def draw_cactus_image(id, ax):\n",
    "    path = get_test_image_path(id)\n",
    "    img = mpimg.imread(path)\n",
    "    plt.imshow(img)\n",
    "    ax.set_title('Label: ' + str(train_labels_df.loc[id]['has_cactus']))\n",
    "\n",
    "fig = plt.figure(figsize=(20,20))\n",
    "for i in range(12):\n",
    "    ax = fig.add_subplot(3, 4, i + 1)\n",
    "    draw_cactus_image(training_imgs[i], ax)"
   ]
  },
  {
   "cell_type": "markdown",
   "metadata": {},
   "source": [
    "It is really tough to differentiate between the images with cactus and without cactus, so we're going to rely on AI to do that"
   ]
  },
  {
   "cell_type": "markdown",
   "metadata": {},
   "source": [
    "**Loading the data**"
   ]
  },
  {
   "cell_type": "code",
   "execution_count": 8,
   "metadata": {},
   "outputs": [
    {
     "name": "stdout",
     "output_type": "stream",
     "text": [
      "../input/train/train/76719301e2033d74e083c596ae270479.jpg 0\n",
      "../input/train/train/add01a62be65e0d8910190a2802da395.jpg 1\n",
      "../input/train/train/9c554015a12095b76b92ee24a9221bc5.jpg 0\n",
      "../input/train/train/02b6bbd919ce487e614a541e8c781e47.jpg 1\n",
      "../input/train/train/72ad70e21bc47bfdc10d6a86aa99e058.jpg 1\n",
      "../input/train/train/16efd28136238b6b6177567fd1909f72.jpg 0\n",
      "../input/train/train/94d124ceb307d98e3df139783c5fc908.jpg 1\n",
      "../input/train/train/c2152191fa3654034873f2c0a6fe9593.jpg 0\n",
      "../input/train/train/dca1b6d310815beedfe102d36c43fc46.jpg 1\n",
      "../input/train/train/f964be8da498ec4e98155a331367f689.jpg 0\n"
     ]
    }
   ],
   "source": [
    "train_image_path = [training_dir + ti for ti in training_imgs ]\n",
    "train_image_labels = [ train_labels_df.loc[ti]['has_cactus'] for ti in training_imgs]\n",
    "\n",
    "\n",
    "for i in range(10):\n",
    "    print(train_image_path[i], train_image_labels[i])"
   ]
  },
  {
   "cell_type": "markdown",
   "metadata": {},
   "source": [
    "To get from the image paths above to actual tf.Tensors we will combine tf.io.read_file and tf.image.decode_image. This very simple process is illustrated below for the first example:"
   ]
  },
  {
   "cell_type": "code",
   "execution_count": 9,
   "metadata": {},
   "outputs": [
    {
     "data": {
      "text/plain": [
       "<tf.Tensor: id=19, shape=(32, 32, 3), dtype=float32, numpy=\n",
       "array([[[0.5254902 , 0.4862745 , 0.48235294],\n",
       "        [0.57254905, 0.53333336, 0.5294118 ],\n",
       "        [0.7176471 , 0.6784314 , 0.6745098 ],\n",
       "        ...,\n",
       "        [0.6745098 , 0.61960787, 0.61960787],\n",
       "        [0.60784316, 0.5529412 , 0.5529412 ],\n",
       "        [0.61960787, 0.5647059 , 0.5647059 ]],\n",
       "\n",
       "       [[0.46666667, 0.42745098, 0.42352942],\n",
       "        [0.5058824 , 0.46666667, 0.4627451 ],\n",
       "        [0.6392157 , 0.6       , 0.59607846],\n",
       "        ...,\n",
       "        [0.69803923, 0.6431373 , 0.6431373 ],\n",
       "        [0.6156863 , 0.56078434, 0.56078434],\n",
       "        [0.62352943, 0.5686275 , 0.5686275 ]],\n",
       "\n",
       "       [[0.45490196, 0.41568628, 0.4117647 ],\n",
       "        [0.47843137, 0.4392157 , 0.43529412],\n",
       "        [0.5372549 , 0.49803922, 0.49411765],\n",
       "        ...,\n",
       "        [0.75686276, 0.7019608 , 0.7019608 ],\n",
       "        [0.6156863 , 0.56078434, 0.56078434],\n",
       "        [0.6039216 , 0.54901963, 0.54901963]],\n",
       "\n",
       "       ...,\n",
       "\n",
       "       [[0.5176471 , 0.4627451 , 0.4627451 ],\n",
       "        [0.4392157 , 0.38431373, 0.38431373],\n",
       "        [0.4862745 , 0.43137255, 0.43137255],\n",
       "        ...,\n",
       "        [0.6117647 , 0.5254902 , 0.5372549 ],\n",
       "        [0.5882353 , 0.5019608 , 0.5137255 ],\n",
       "        [0.59607846, 0.50980395, 0.52156866]],\n",
       "\n",
       "       [[0.46666667, 0.40392157, 0.40784314],\n",
       "        [0.35686275, 0.29411766, 0.29803923],\n",
       "        [0.40784314, 0.34509805, 0.34901962],\n",
       "        ...,\n",
       "        [0.6313726 , 0.54509807, 0.5568628 ],\n",
       "        [0.6039216 , 0.5176471 , 0.5294118 ],\n",
       "        [0.6       , 0.5137255 , 0.5254902 ]],\n",
       "\n",
       "       [[0.37254903, 0.30980393, 0.3137255 ],\n",
       "        [0.44705883, 0.38431373, 0.3882353 ],\n",
       "        [0.56078434, 0.49803922, 0.5019608 ],\n",
       "        ...,\n",
       "        [0.62352943, 0.5372549 , 0.54901963],\n",
       "        [0.5921569 , 0.5058824 , 0.5176471 ],\n",
       "        [0.58431375, 0.49803922, 0.50980395]]], dtype=float32)>"
      ]
     },
     "execution_count": 9,
     "metadata": {},
     "output_type": "execute_result"
    }
   ],
   "source": [
    "def img_to_tensor(img_path):\n",
    "    img_tensor = tf.cast(tf.image.decode_image(tf.io.read_file(img_path)), tf.float32)\n",
    "    img_tensor /= 255.0 # normalized to [0,1]\n",
    "    return img_tensor\n",
    "\n",
    "img_to_tensor(train_image_path[0])"
   ]
  },
  {
   "cell_type": "markdown",
   "metadata": {},
   "source": [
    "So this is how we can convert our example to tensor of shape (32,32,3)"
   ]
  },
  {
   "cell_type": "markdown",
   "metadata": {},
   "source": [
    "**Making training and validation dataset from our data**"
   ]
  },
  {
   "cell_type": "code",
   "execution_count": 10,
   "metadata": {},
   "outputs": [],
   "source": [
    "from sklearn.model_selection import train_test_split"
   ]
  },
  {
   "cell_type": "code",
   "execution_count": 11,
   "metadata": {},
   "outputs": [],
   "source": [
    "X_train, X_valid, y_train, y_valid = train_test_split(train_image_path, train_image_labels, test_size=0.2)\n",
    "\n",
    "def process_image_in_record(path, label):\n",
    "    return img_to_tensor(path), label\n",
    "\n",
    "def build_training_dataset(paths, labels, batch_size = 32):\n",
    "    ds = tf.data.Dataset.from_tensor_slices((paths, labels))\n",
    "    ds = ds.map(process_image_in_record)\n",
    "    ds = ds.shuffle(buffer_size = len(paths))\n",
    "    ds = ds.repeat()\n",
    "    ds = ds.batch(batch_size)\n",
    "    ds = ds.prefetch(tf.data.experimental.AUTOTUNE)\n",
    "    return ds\n",
    "\n",
    "def build_validation_dataset(paths, labels, batch_size = 32):\n",
    "    ds = tf.data.Dataset.from_tensor_slices((paths, labels))\n",
    "    ds = ds.map(process_image_in_record)\n",
    "    ds = ds.batch(batch_size)\n",
    "    return ds\n",
    "\n",
    "train_ds = build_training_dataset(X_train, y_train)\n",
    "validation_ds = build_validation_dataset(X_valid, y_valid)"
   ]
  },
  {
   "cell_type": "markdown",
   "metadata": {},
   "source": [
    "Now that we have created training and validation dataset, let's verify them by a small example"
   ]
  },
  {
   "cell_type": "code",
   "execution_count": 12,
   "metadata": {},
   "outputs": [
    {
     "name": "stdout",
     "output_type": "stream",
     "text": [
      "tf.Tensor(\n",
      "[[[[0.47843137 0.41568628 0.3647059 ]\n",
      "   [0.43137255 0.36862746 0.31764707]\n",
      "   [0.38039216 0.30980393 0.27058825]\n",
      "   ...\n",
      "   [0.4862745  0.4        0.34901962]\n",
      "   [0.45490196 0.36862746 0.31764707]\n",
      "   [0.5372549  0.4509804  0.4       ]]\n",
      "\n",
      "  [[0.43137255 0.36862746 0.31764707]\n",
      "   [0.43529412 0.37254903 0.32156864]\n",
      "   [0.36862746 0.29803923 0.2509804 ]\n",
      "   ...\n",
      "   [0.5411765  0.45490196 0.40392157]\n",
      "   [0.5137255  0.42745098 0.3764706 ]\n",
      "   [0.5568628  0.47058824 0.41960785]]\n",
      "\n",
      "  [[0.5882353  0.5254902  0.46666667]\n",
      "   [0.49803922 0.43529412 0.3764706 ]\n",
      "   [0.3137255  0.2509804  0.19215687]\n",
      "   ...\n",
      "   [0.54509807 0.47058824 0.41568628]\n",
      "   [0.54509807 0.45882353 0.40784314]\n",
      "   [0.54509807 0.45882353 0.40784314]]\n",
      "\n",
      "  ...\n",
      "\n",
      "  [[0.44313726 0.38431373 0.35686275]\n",
      "   [0.5176471  0.45882353 0.43137255]\n",
      "   [0.45490196 0.39607844 0.36862746]\n",
      "   ...\n",
      "   [0.4627451  0.41568628 0.3529412 ]\n",
      "   [0.36078432 0.3254902  0.25882354]\n",
      "   [0.43529412 0.4        0.33333334]]\n",
      "\n",
      "  [[0.34509805 0.29411766 0.25882354]\n",
      "   [0.4745098  0.42352942 0.3882353 ]\n",
      "   [0.57254905 0.5137255  0.4862745 ]\n",
      "   ...\n",
      "   [0.44705883 0.4        0.3372549 ]\n",
      "   [0.40784314 0.3764706  0.3019608 ]\n",
      "   [0.4509804  0.41960785 0.34509805]]\n",
      "\n",
      "  [[0.36862746 0.31764707 0.28235295]\n",
      "   [0.47058824 0.41960785 0.38431373]\n",
      "   [0.4392157  0.38039216 0.3529412 ]\n",
      "   ...\n",
      "   [0.46666667 0.41960785 0.35686275]\n",
      "   [0.45882353 0.42745098 0.3529412 ]\n",
      "   [0.4392157  0.40784314 0.33333334]]]\n",
      "\n",
      "\n",
      " [[[0.6039216  0.53333336 0.5176471 ]\n",
      "   [0.5882353  0.5176471  0.5019608 ]\n",
      "   [0.5686275  0.49803922 0.48235294]\n",
      "   ...\n",
      "   [0.5921569  0.5176471  0.5254902 ]\n",
      "   [0.56078434 0.4862745  0.49411765]\n",
      "   [0.54509807 0.47058824 0.47843137]]\n",
      "\n",
      "  [[0.6        0.5294118  0.5137255 ]\n",
      "   [0.5882353  0.5176471  0.5019608 ]\n",
      "   [0.58431375 0.5137255  0.49803922]\n",
      "   ...\n",
      "   [0.5764706  0.5019608  0.50980395]\n",
      "   [0.5803922  0.5058824  0.5137255 ]\n",
      "   [0.5882353  0.5137255  0.52156866]]\n",
      "\n",
      "  [[0.6313726  0.56078434 0.54509807]\n",
      "   [0.61960787 0.54901963 0.53333336]\n",
      "   [0.62352943 0.5529412  0.5372549 ]\n",
      "   ...\n",
      "   [0.5803922  0.5058824  0.5137255 ]\n",
      "   [0.59607846 0.52156866 0.5294118 ]\n",
      "   [0.6039216  0.5294118  0.5372549 ]]\n",
      "\n",
      "  ...\n",
      "\n",
      "  [[0.60784316 0.53333336 0.5411765 ]\n",
      "   [0.6039216  0.5294118  0.5372549 ]\n",
      "   [0.5803922  0.5058824  0.5137255 ]\n",
      "   ...\n",
      "   [0.5764706  0.52156866 0.52156866]\n",
      "   [0.57254905 0.5176471  0.5176471 ]\n",
      "   [0.5647059  0.50980395 0.50980395]]\n",
      "\n",
      "  [[0.5686275  0.49411765 0.5019608 ]\n",
      "   [0.6039216  0.5294118  0.5372549 ]\n",
      "   [0.58431375 0.50980395 0.5176471 ]\n",
      "   ...\n",
      "   [0.5764706  0.52156866 0.52156866]\n",
      "   [0.57254905 0.5176471  0.5176471 ]\n",
      "   [0.5686275  0.5137255  0.5137255 ]]\n",
      "\n",
      "  [[0.6784314  0.6039216  0.6117647 ]\n",
      "   [0.72156864 0.64705884 0.654902  ]\n",
      "   [0.6745098  0.6        0.60784316]\n",
      "   ...\n",
      "   [0.57254905 0.5176471  0.5176471 ]\n",
      "   [0.5686275  0.5137255  0.5137255 ]\n",
      "   [0.5647059  0.50980395 0.50980395]]]], shape=(2, 32, 32, 3), dtype=float32)\n",
      "tf.Tensor([1 0], shape=(2,), dtype=int32)\n"
     ]
    }
   ],
   "source": [
    "mini_train_ds = build_training_dataset(X_train[:5], y_train[:5], batch_size=2)\n",
    "# Fetch and print the first batch of 2 images\n",
    "for images, labels in mini_train_ds.take(1):\n",
    "    print(images)\n",
    "    print(labels)"
   ]
  },
  {
   "cell_type": "markdown",
   "metadata": {},
   "source": [
    "**Building a model**"
   ]
  },
  {
   "cell_type": "code",
   "execution_count": 13,
   "metadata": {},
   "outputs": [],
   "source": [
    "model = tf.keras.Sequential()\n",
    "model.add(tf.keras.layers.Flatten())\n",
    "model.add(tf.keras.layers.Dense(256, activation='relu'))\n",
    "model.add(tf.keras.layers.Dense(64, activation='relu'))\n",
    "model.add(tf.keras.layers.Dense(1, activation='sigmoid')) # because we are in a binary classification setup\n",
    "\n",
    "model.compile(optimizer='adam', loss='binary_crossentropy', metrics=['accuracy'])"
   ]
  },
  {
   "cell_type": "code",
   "execution_count": 14,
   "metadata": {},
   "outputs": [
    {
     "name": "stdout",
     "output_type": "stream",
     "text": [
      "Epoch 1/20\n",
      "400/400 [==============================] - 28s 70ms/step - loss: 0.4729 - accuracy: 0.7646 - val_loss: 0.4840 - val_accuracy: 0.7709\n",
      "Epoch 2/20\n",
      "400/400 [==============================] - 10s 25ms/step - loss: 0.3752 - accuracy: 0.8168 - val_loss: 0.3748 - val_accuracy: 0.8051\n",
      "Epoch 3/20\n",
      "400/400 [==============================] - 10s 25ms/step - loss: 0.3544 - accuracy: 0.8325 - val_loss: 0.3745 - val_accuracy: 0.8306\n",
      "Epoch 4/20\n",
      "400/400 [==============================] - 10s 25ms/step - loss: 0.3421 - accuracy: 0.8359 - val_loss: 0.3064 - val_accuracy: 0.8703\n",
      "Epoch 5/20\n",
      "400/400 [==============================] - 10s 26ms/step - loss: 0.3231 - accuracy: 0.8587 - val_loss: 0.3310 - val_accuracy: 0.8603\n",
      "Epoch 6/20\n",
      "400/400 [==============================] - 10s 25ms/step - loss: 0.2928 - accuracy: 0.8770 - val_loss: 0.2999 - val_accuracy: 0.8806\n",
      "Epoch 7/20\n",
      "400/400 [==============================] - 9s 23ms/step - loss: 0.3067 - accuracy: 0.8672 - val_loss: 0.3204 - val_accuracy: 0.8520\n",
      "Epoch 8/20\n",
      "400/400 [==============================] - 8s 21ms/step - loss: 0.2778 - accuracy: 0.8769 - val_loss: 0.2660 - val_accuracy: 0.8977\n",
      "Epoch 9/20\n",
      "400/400 [==============================] - 12s 31ms/step - loss: 0.2769 - accuracy: 0.8835 - val_loss: 0.2585 - val_accuracy: 0.9020\n",
      "Epoch 10/20\n",
      "400/400 [==============================] - 9s 21ms/step - loss: 0.2611 - accuracy: 0.8997 - val_loss: 0.2865 - val_accuracy: 0.8686\n",
      "Epoch 11/20\n",
      "400/400 [==============================] - 9s 22ms/step - loss: 0.2570 - accuracy: 0.8919 - val_loss: 0.2782 - val_accuracy: 0.8846\n",
      "Epoch 12/20\n",
      "400/400 [==============================] - 9s 22ms/step - loss: 0.2549 - accuracy: 0.8990 - val_loss: 0.2581 - val_accuracy: 0.8971\n",
      "Epoch 13/20\n",
      "400/400 [==============================] - 9s 22ms/step - loss: 0.2432 - accuracy: 0.9027 - val_loss: 0.2514 - val_accuracy: 0.8957\n",
      "Epoch 14/20\n",
      "400/400 [==============================] - 9s 24ms/step - loss: 0.2466 - accuracy: 0.8988 - val_loss: 0.2465 - val_accuracy: 0.8986\n",
      "Epoch 15/20\n",
      "400/400 [==============================] - 11s 27ms/step - loss: 0.2538 - accuracy: 0.8936 - val_loss: 0.2411 - val_accuracy: 0.9066\n",
      "Epoch 16/20\n",
      "400/400 [==============================] - 9s 22ms/step - loss: 0.2383 - accuracy: 0.9086 - val_loss: 0.2884 - val_accuracy: 0.8757\n",
      "Epoch 17/20\n",
      "400/400 [==============================] - 9s 23ms/step - loss: 0.2406 - accuracy: 0.9049 - val_loss: 0.2580 - val_accuracy: 0.8974\n",
      "Epoch 18/20\n",
      "400/400 [==============================] - 9s 22ms/step - loss: 0.2382 - accuracy: 0.9045 - val_loss: 0.2458 - val_accuracy: 0.8983\n",
      "Epoch 19/20\n",
      "400/400 [==============================] - 9s 22ms/step - loss: 0.2363 - accuracy: 0.8970 - val_loss: 0.2438 - val_accuracy: 0.8986\n",
      "Epoch 20/20\n",
      "400/400 [==============================] - 9s 22ms/step - loss: 0.2363 - accuracy: 0.9035 - val_loss: 0.2487 - val_accuracy: 0.8997\n"
     ]
    }
   ],
   "source": [
    "history = model.fit(train_ds, epochs=20, steps_per_epoch=400, validation_data=validation_ds)"
   ]
  },
  {
   "cell_type": "markdown",
   "metadata": {},
   "source": [
    "We've reached 90% validation accurary and there was increase in the validation loss once."
   ]
  },
  {
   "cell_type": "code",
   "execution_count": 15,
   "metadata": {},
   "outputs": [
    {
     "data": {
      "image/png": "[encoded data removed]",
      "text/plain": [
       "<Figure size 432x288 with 1 Axes>"
      ]
     },
     "metadata": {
      "needs_background": "light"
     },
     "output_type": "display_data"
    },
    {
     "data": {
      "image/png": "[encoded data removed]",
      "text/plain": [
       "<Figure size 432x288 with 1 Axes>"
      ]
     },
     "metadata": {
      "needs_background": "light"
     },
     "output_type": "display_data"
    }
   ],
   "source": [
    "def plot_accuracies_and_losses(history):\n",
    "    plt.title('Accuracy')\n",
    "    plt.plot(history.history['accuracy'])\n",
    "    plt.plot(history.history['val_accuracy'])\n",
    "    plt.legend(['training', 'validation'], loc='upper left')\n",
    "    plt.show()\n",
    "    \n",
    "    plt.title('Cross-entropy loss')\n",
    "    plt.plot(history.history['loss'])\n",
    "    plt.plot(history.history['val_loss'])\n",
    "    plt.legend(['training', 'validation'], loc='upper left')\n",
    "    plt.show()\n",
    "\n",
    "plot_accuracies_and_losses(history)"
   ]
  },
  {
   "cell_type": "markdown",
   "metadata": {},
   "source": [
    "This shows us that our model is learning something and getting better gradually, we didn't allow much overfitting to occur. This shows that we haven't made any errors in setting up our data pipeline and model"
   ]
  },
  {
   "cell_type": "markdown",
   "metadata": {},
   "source": [
    "Furthermore, we were using basic model till now, but CNN or convulated neural networks are the most preferred option when processing image data, so let's try using CNNs"
   ]
  },
  {
   "cell_type": "markdown",
   "metadata": {},
   "source": [
    "**Making a CNN model**"
   ]
  },
  {
   "cell_type": "code",
   "execution_count": 16,
   "metadata": {},
   "outputs": [],
   "source": [
    "cnn_model = tf.keras.Sequential()\n",
    "\n",
    "cnn_model.add(tf.keras.layers.Conv2D(32, (3,3), activation='relu', input_shape=(32,32,3)))\n",
    "cnn_model.add(tf.keras.layers.MaxPooling2D((2,2)))\n",
    "cnn_model.add(tf.keras.layers.Conv2D(64, (3,3), activation='relu'))\n",
    "cnn_model.add(tf.keras.layers.MaxPooling2D((2,2)))\n",
    "cnn_model.add(tf.keras.layers.Conv2D(64, (3,3), activation='relu'))\n",
    "\n",
    "cnn_model.add(tf.keras.layers.Flatten())\n",
    "cnn_model.add(tf.keras.layers.Dense(64, activation='relu'))\n",
    "cnn_model.add(tf.keras.layers.Dense(1, activation='sigmoid'))\n",
    "\n",
    "cnn_model.compile(optimizer='adam', loss='binary_crossentropy', metrics=['accuracy'])"
   ]
  },
  {
   "cell_type": "code",
   "execution_count": 17,
   "metadata": {},
   "outputs": [
    {
     "name": "stdout",
     "output_type": "stream",
     "text": [
      "Model: \"sequential_1\"\n",
      "_________________________________________________________________\n",
      "Layer (type)                 Output Shape              Param #   \n",
      "=================================================================\n",
      "conv2d (Conv2D)              (None, 30, 30, 32)        896       \n",
      "_________________________________________________________________\n",
      "max_pooling2d (MaxPooling2D) (None, 15, 15, 32)        0         \n",
      "_________________________________________________________________\n",
      "conv2d_1 (Conv2D)            (None, 13, 13, 64)        18496     \n",
      "_________________________________________________________________\n",
      "max_pooling2d_1 (MaxPooling2 (None, 6, 6, 64)          0         \n",
      "_________________________________________________________________\n",
      "conv2d_2 (Conv2D)            (None, 4, 4, 64)          36928     \n",
      "_________________________________________________________________\n",
      "flatten_1 (Flatten)          (None, 1024)              0         \n",
      "_________________________________________________________________\n",
      "dense_3 (Dense)              (None, 64)                65600     \n",
      "_________________________________________________________________\n",
      "dense_4 (Dense)              (None, 1)                 65        \n",
      "=================================================================\n",
      "Total params: 121,985\n",
      "Trainable params: 121,985\n",
      "Non-trainable params: 0\n",
      "_________________________________________________________________\n"
     ]
    }
   ],
   "source": [
    "cnn_model.summary()"
   ]
  },
  {
   "cell_type": "code",
   "execution_count": 18,
   "metadata": {},
   "outputs": [
    {
     "name": "stdout",
     "output_type": "stream",
     "text": [
      "Epoch 1/20\n",
      "400/400 [==============================] - 27s 67ms/step - loss: 0.2315 - accuracy: 0.9060 - val_loss: 0.1222 - val_accuracy: 0.9537\n",
      "Epoch 2/20\n",
      "400/400 [==============================] - 23s 57ms/step - loss: 0.1373 - accuracy: 0.9482 - val_loss: 0.0884 - val_accuracy: 0.9686\n",
      "Epoch 3/20\n",
      "400/400 [==============================] - 25s 62ms/step - loss: 0.0990 - accuracy: 0.9640 - val_loss: 0.0789 - val_accuracy: 0.9720\n",
      "Epoch 4/20\n",
      "400/400 [==============================] - 24s 60ms/step - loss: 0.0935 - accuracy: 0.9644 - val_loss: 0.0809 - val_accuracy: 0.9726\n",
      "Epoch 5/20\n",
      "400/400 [==============================] - 22s 55ms/step - loss: 0.0712 - accuracy: 0.9741 - val_loss: 0.0584 - val_accuracy: 0.9806\n",
      "Epoch 6/20\n",
      "400/400 [==============================] - 20s 50ms/step - loss: 0.0743 - accuracy: 0.9726 - val_loss: 0.0767 - val_accuracy: 0.9726\n",
      "Epoch 7/20\n",
      "400/400 [==============================] - 21s 53ms/step - loss: 0.0619 - accuracy: 0.9769 - val_loss: 0.0413 - val_accuracy: 0.9874\n",
      "Epoch 8/20\n",
      "400/400 [==============================] - 21s 53ms/step - loss: 0.0485 - accuracy: 0.9825 - val_loss: 0.0497 - val_accuracy: 0.9837\n",
      "Epoch 9/20\n",
      "400/400 [==============================] - 21s 53ms/step - loss: 0.0416 - accuracy: 0.9841 - val_loss: 0.0314 - val_accuracy: 0.9920\n",
      "Epoch 10/20\n",
      "400/400 [==============================] - 20s 50ms/step - loss: 0.0339 - accuracy: 0.9878 - val_loss: 0.0355 - val_accuracy: 0.9903\n",
      "Epoch 11/20\n",
      "400/400 [==============================] - 20s 49ms/step - loss: 0.0315 - accuracy: 0.9885 - val_loss: 0.0390 - val_accuracy: 0.9866\n",
      "Epoch 12/20\n",
      "400/400 [==============================] - 20s 50ms/step - loss: 0.0288 - accuracy: 0.9899 - val_loss: 0.0765 - val_accuracy: 0.9706\n",
      "Epoch 13/20\n",
      "400/400 [==============================] - 17s 44ms/step - loss: 0.0271 - accuracy: 0.9905 - val_loss: 0.0393 - val_accuracy: 0.9891\n",
      "Epoch 14/20\n",
      "400/400 [==============================] - 17s 43ms/step - loss: 0.0283 - accuracy: 0.9897 - val_loss: 0.0384 - val_accuracy: 0.9900\n",
      "Epoch 15/20\n",
      "400/400 [==============================] - 17s 42ms/step - loss: 0.0200 - accuracy: 0.9918 - val_loss: 0.0418 - val_accuracy: 0.9900\n",
      "Epoch 16/20\n",
      "400/400 [==============================] - 17s 41ms/step - loss: 0.0117 - accuracy: 0.9962 - val_loss: 0.0630 - val_accuracy: 0.9857\n",
      "Epoch 17/20\n",
      "400/400 [==============================] - 17s 42ms/step - loss: 0.0157 - accuracy: 0.9948 - val_loss: 0.0459 - val_accuracy: 0.9903\n",
      "Epoch 18/20\n",
      "400/400 [==============================] - 17s 41ms/step - loss: 0.0151 - accuracy: 0.9945 - val_loss: 0.0499 - val_accuracy: 0.9869\n",
      "Epoch 19/20\n",
      "400/400 [==============================] - 16s 41ms/step - loss: 0.0167 - accuracy: 0.9942 - val_loss: 0.0357 - val_accuracy: 0.9894\n",
      "Epoch 20/20\n",
      "400/400 [==============================] - 16s 41ms/step - loss: 0.0055 - accuracy: 0.9986 - val_loss: 0.0375 - val_accuracy: 0.9920\n"
     ]
    }
   ],
   "source": [
    "history = cnn_model.fit(train_ds, epochs=20, steps_per_epoch=400, validation_data=validation_ds)"
   ]
  },
  {
   "cell_type": "markdown",
   "metadata": {},
   "source": [
    "**Making a Submission**"
   ]
  },
  {
   "cell_type": "code",
   "execution_count": 19,
   "metadata": {},
   "outputs": [
    {
     "name": "stdout",
     "output_type": "stream",
     "text": [
      "4000\n"
     ]
    },
    {
     "data": {
      "text/plain": [
       "['dadfb5ca7c1ded00aac585bdbea2c66c.jpg',\n",
       " '7f8ee9354b1a12c01832ee4115d703e8.jpg',\n",
       " '546cb4e0e46927319d60c5b6d64521a2.jpg',\n",
       " 'ad7540778cc3cfdcc1ee326ae4659af8.jpg',\n",
       " 'fd4f6c93466b6c3438e1d7b616328b00.jpg']"
      ]
     },
     "execution_count": 19,
     "metadata": {},
     "output_type": "execute_result"
    }
   ],
   "source": [
    "test_dir = '../input/test/test/'\n",
    "test_imgs = listdir(test_dir)\n",
    "print(len(test_imgs))\n",
    "test_imgs[:5]"
   ]
  },
  {
   "cell_type": "code",
   "execution_count": 20,
   "metadata": {},
   "outputs": [
    {
     "data": {
      "text/plain": [
       "array([[[[0.27058825, 0.23137255, 0.23529412],\n",
       "         [0.30588236, 0.26666668, 0.27058825],\n",
       "         [0.32941177, 0.2901961 , 0.29411766],\n",
       "         ...,\n",
       "         [0.3647059 , 0.31764707, 0.31764707],\n",
       "         [0.35686275, 0.30980393, 0.30980393],\n",
       "         [0.34117648, 0.29411766, 0.29411766]],\n",
       "\n",
       "        [[0.2784314 , 0.23921569, 0.24313726],\n",
       "         [0.28235295, 0.24313726, 0.24705882],\n",
       "         [0.28235295, 0.24313726, 0.24705882],\n",
       "         ...,\n",
       "         [0.3882353 , 0.34117648, 0.34117648],\n",
       "         [0.3764706 , 0.32941177, 0.32941177],\n",
       "         [0.33333334, 0.28627452, 0.28627452]],\n",
       "\n",
       "        [[0.29803923, 0.25882354, 0.2627451 ],\n",
       "         [0.28235295, 0.24313726, 0.24705882],\n",
       "         [0.27058825, 0.23137255, 0.23529412],\n",
       "         ...,\n",
       "         [0.3137255 , 0.26666668, 0.26666668],\n",
       "         [0.3372549 , 0.2901961 , 0.2901961 ],\n",
       "         [0.3137255 , 0.26666668, 0.26666668]],\n",
       "\n",
       "        ...,\n",
       "\n",
       "        [[0.33333334, 0.2784314 , 0.32941177],\n",
       "         [0.31764707, 0.2627451 , 0.3137255 ],\n",
       "         [0.30588236, 0.2509804 , 0.3019608 ],\n",
       "         ...,\n",
       "         [0.36862746, 0.32941177, 0.3254902 ],\n",
       "         [0.31764707, 0.2784314 , 0.27450982],\n",
       "         [0.2784314 , 0.23921569, 0.23529412]],\n",
       "\n",
       "        [[0.3137255 , 0.25882354, 0.31764707],\n",
       "         [0.30980393, 0.25490198, 0.3137255 ],\n",
       "         [0.3019608 , 0.24705882, 0.29803923],\n",
       "         ...,\n",
       "         [0.31764707, 0.2784314 , 0.27450982],\n",
       "         [0.3137255 , 0.27450982, 0.27058825],\n",
       "         [0.33333334, 0.29411766, 0.2901961 ]],\n",
       "\n",
       "        [[0.3254902 , 0.27058825, 0.32941177],\n",
       "         [0.33333334, 0.2784314 , 0.3372549 ],\n",
       "         [0.32156864, 0.26666668, 0.31764707],\n",
       "         ...,\n",
       "         [0.23137255, 0.19215687, 0.1882353 ],\n",
       "         [0.25882354, 0.21960784, 0.21568628],\n",
       "         [0.34117648, 0.3019608 , 0.29803923]]],\n",
       "\n",
       "\n",
       "       [[[0.31764707, 0.2901961 , 0.25882354],\n",
       "         [0.37254903, 0.34509805, 0.3137255 ],\n",
       "         [0.42745098, 0.4       , 0.36862746],\n",
       "         ...,\n",
       "         [0.32156864, 0.33333334, 0.26666668],\n",
       "         [0.32156864, 0.33333334, 0.26666668],\n",
       "         [0.3254902 , 0.3372549 , 0.27058825]],\n",
       "\n",
       "        [[0.4       , 0.37254903, 0.34117648],\n",
       "         [0.38039216, 0.3529412 , 0.32156864],\n",
       "         [0.40392157, 0.3764706 , 0.34509805],\n",
       "         ...,\n",
       "         [0.33333334, 0.34509805, 0.2784314 ],\n",
       "         [0.33333334, 0.34509805, 0.2784314 ],\n",
       "         [0.32941177, 0.34117648, 0.27450982]],\n",
       "\n",
       "        [[0.32156864, 0.29411766, 0.2627451 ],\n",
       "         [0.30588236, 0.2784314 , 0.24705882],\n",
       "         [0.29411766, 0.26666668, 0.23529412],\n",
       "         ...,\n",
       "         [0.3372549 , 0.34901962, 0.28235295],\n",
       "         [0.34901962, 0.36078432, 0.29411766],\n",
       "         [0.34901962, 0.36078432, 0.29411766]],\n",
       "\n",
       "        ...,\n",
       "\n",
       "        [[0.4392157 , 0.4392157 , 0.39215687],\n",
       "         [0.41568628, 0.41568628, 0.36862746],\n",
       "         [0.3529412 , 0.3529412 , 0.30588236],\n",
       "         ...,\n",
       "         [0.22745098, 0.22745098, 0.18039216],\n",
       "         [0.37254903, 0.38039216, 0.32941177],\n",
       "         [0.42352942, 0.43137255, 0.38039216]],\n",
       "\n",
       "        [[0.4745098 , 0.4745098 , 0.42745098],\n",
       "         [0.4509804 , 0.4509804 , 0.40392157],\n",
       "         [0.39607844, 0.39607844, 0.34901962],\n",
       "         ...,\n",
       "         [0.21176471, 0.21176471, 0.16470589],\n",
       "         [0.3254902 , 0.3254902 , 0.2784314 ],\n",
       "         [0.42352942, 0.42352942, 0.3764706 ]],\n",
       "\n",
       "        [[0.38431373, 0.38431373, 0.3372549 ],\n",
       "         [0.3647059 , 0.3647059 , 0.31764707],\n",
       "         [0.3372549 , 0.3372549 , 0.2901961 ],\n",
       "         ...,\n",
       "         [0.28627452, 0.28627452, 0.23921569],\n",
       "         [0.2901961 , 0.2901961 , 0.24313726],\n",
       "         [0.34901962, 0.34901962, 0.3019608 ]]]], dtype=float32)"
      ]
     },
     "execution_count": 20,
     "metadata": {},
     "output_type": "execute_result"
    }
   ],
   "source": [
    "def path_to_numpy_array(path):\n",
    "    tensor = img_to_tensor(path)\n",
    "    array = tensor.numpy()\n",
    "    return array\n",
    "\n",
    "test_image_paths = [test_dir + ti for ti in test_imgs]\n",
    "test_instances = np.asarray([path_to_numpy_array(tip) for tip in test_image_paths])\n",
    "\n",
    "test_instances[:2]"
   ]
  },
  {
   "cell_type": "code",
   "execution_count": 21,
   "metadata": {},
   "outputs": [
    {
     "name": "stdout",
     "output_type": "stream",
     "text": [
      "4000\n"
     ]
    }
   ],
   "source": [
    "predictions = cnn_model.predict(test_instances)\n",
    "print(len(predictions))"
   ]
  },
  {
   "cell_type": "code",
   "execution_count": 22,
   "metadata": {},
   "outputs": [
    {
     "data": {
      "text/html": [
       "<div>\n",
       "<style scoped>\n",
       "    .dataframe tbody tr th:only-of-type {\n",
       "        vertical-align: middle;\n",
       "    }\n",
       "\n",
       "    .dataframe tbody tr th {\n",
       "        vertical-align: top;\n",
       "    }\n",
       "\n",
       "    .dataframe thead th {\n",
       "        text-align: right;\n",
       "    }\n",
       "</style>\n",
       "<table border=\"1\" class=\"dataframe\">\n",
       "  <thead>\n",
       "    <tr style=\"text-align: right;\">\n",
       "      <th></th>\n",
       "      <th>id</th>\n",
       "      <th>has_cactus</th>\n",
       "    </tr>\n",
       "  </thead>\n",
       "  <tbody>\n",
       "    <tr>\n",
       "      <th>0</th>\n",
       "      <td>dadfb5ca7c1ded00aac585bdbea2c66c.jpg</td>\n",
       "      <td>0.999999</td>\n",
       "    </tr>\n",
       "    <tr>\n",
       "      <th>1</th>\n",
       "      <td>7f8ee9354b1a12c01832ee4115d703e8.jpg</td>\n",
       "      <td>0.000692</td>\n",
       "    </tr>\n",
       "    <tr>\n",
       "      <th>2</th>\n",
       "      <td>546cb4e0e46927319d60c5b6d64521a2.jpg</td>\n",
       "      <td>0.000049</td>\n",
       "    </tr>\n",
       "    <tr>\n",
       "      <th>3</th>\n",
       "      <td>ad7540778cc3cfdcc1ee326ae4659af8.jpg</td>\n",
       "      <td>1.000000</td>\n",
       "    </tr>\n",
       "    <tr>\n",
       "      <th>4</th>\n",
       "      <td>fd4f6c93466b6c3438e1d7b616328b00.jpg</td>\n",
       "      <td>1.000000</td>\n",
       "    </tr>\n",
       "    <tr>\n",
       "      <th>5</th>\n",
       "      <td>03854bb8a431afcc9995d639d7761055.jpg</td>\n",
       "      <td>0.570617</td>\n",
       "    </tr>\n",
       "    <tr>\n",
       "      <th>6</th>\n",
       "      <td>ab4b86f50eb4d2b936719b5f31fd1ed4.jpg</td>\n",
       "      <td>0.001399</td>\n",
       "    </tr>\n",
       "    <tr>\n",
       "      <th>7</th>\n",
       "      <td>3d497d059c2c5a5680c7aab6dbe9d8c8.jpg</td>\n",
       "      <td>1.000000</td>\n",
       "    </tr>\n",
       "    <tr>\n",
       "      <th>8</th>\n",
       "      <td>119f2dd44df56fa4d8032199f4231353.jpg</td>\n",
       "      <td>0.901451</td>\n",
       "    </tr>\n",
       "    <tr>\n",
       "      <th>9</th>\n",
       "      <td>588be7b33f883603211bdb77f394c4ed.jpg</td>\n",
       "      <td>1.000000</td>\n",
       "    </tr>\n",
       "    <tr>\n",
       "      <th>10</th>\n",
       "      <td>3d6482ba8f1c1271292cc6120c81fadf.jpg</td>\n",
       "      <td>1.000000</td>\n",
       "    </tr>\n",
       "    <tr>\n",
       "      <th>11</th>\n",
       "      <td>b4dfabc9c484997596390adfb4a2575e.jpg</td>\n",
       "      <td>1.000000</td>\n",
       "    </tr>\n",
       "    <tr>\n",
       "      <th>12</th>\n",
       "      <td>8bcfbe6e26f94812e976df1b0cc9a961.jpg</td>\n",
       "      <td>1.000000</td>\n",
       "    </tr>\n",
       "    <tr>\n",
       "      <th>13</th>\n",
       "      <td>210a05c45336a587bc7a626e98703ad8.jpg</td>\n",
       "      <td>0.007461</td>\n",
       "    </tr>\n",
       "    <tr>\n",
       "      <th>14</th>\n",
       "      <td>afb478de3752ac34f53b577945a98f78.jpg</td>\n",
       "      <td>1.000000</td>\n",
       "    </tr>\n",
       "    <tr>\n",
       "      <th>15</th>\n",
       "      <td>b0e00121e43ba5e9f975887e34a4c639.jpg</td>\n",
       "      <td>0.000053</td>\n",
       "    </tr>\n",
       "    <tr>\n",
       "      <th>16</th>\n",
       "      <td>b9a5255ca6581ccde7d8606963c0295b.jpg</td>\n",
       "      <td>0.000110</td>\n",
       "    </tr>\n",
       "    <tr>\n",
       "      <th>17</th>\n",
       "      <td>668c0ee1d0704fcb624d39c811387381.jpg</td>\n",
       "      <td>1.000000</td>\n",
       "    </tr>\n",
       "    <tr>\n",
       "      <th>18</th>\n",
       "      <td>ae6393b1edfcff0474e9da2eed1d951c.jpg</td>\n",
       "      <td>0.999745</td>\n",
       "    </tr>\n",
       "    <tr>\n",
       "      <th>19</th>\n",
       "      <td>e649daba14a05dcbcb9ef3a226a03a32.jpg</td>\n",
       "      <td>0.031882</td>\n",
       "    </tr>\n",
       "  </tbody>\n",
       "</table>\n",
       "</div>"
      ],
      "text/plain": [
       "                                      id  has_cactus\n",
       "0   dadfb5ca7c1ded00aac585bdbea2c66c.jpg    0.999999\n",
       "1   7f8ee9354b1a12c01832ee4115d703e8.jpg    0.000692\n",
       "2   546cb4e0e46927319d60c5b6d64521a2.jpg    0.000049\n",
       "3   ad7540778cc3cfdcc1ee326ae4659af8.jpg    1.000000\n",
       "4   fd4f6c93466b6c3438e1d7b616328b00.jpg    1.000000\n",
       "5   03854bb8a431afcc9995d639d7761055.jpg    0.570617\n",
       "6   ab4b86f50eb4d2b936719b5f31fd1ed4.jpg    0.001399\n",
       "7   3d497d059c2c5a5680c7aab6dbe9d8c8.jpg    1.000000\n",
       "8   119f2dd44df56fa4d8032199f4231353.jpg    0.901451\n",
       "9   588be7b33f883603211bdb77f394c4ed.jpg    1.000000\n",
       "10  3d6482ba8f1c1271292cc6120c81fadf.jpg    1.000000\n",
       "11  b4dfabc9c484997596390adfb4a2575e.jpg    1.000000\n",
       "12  8bcfbe6e26f94812e976df1b0cc9a961.jpg    1.000000\n",
       "13  210a05c45336a587bc7a626e98703ad8.jpg    0.007461\n",
       "14  afb478de3752ac34f53b577945a98f78.jpg    1.000000\n",
       "15  b0e00121e43ba5e9f975887e34a4c639.jpg    0.000053\n",
       "16  b9a5255ca6581ccde7d8606963c0295b.jpg    0.000110\n",
       "17  668c0ee1d0704fcb624d39c811387381.jpg    1.000000\n",
       "18  ae6393b1edfcff0474e9da2eed1d951c.jpg    0.999745\n",
       "19  e649daba14a05dcbcb9ef3a226a03a32.jpg    0.031882"
      ]
     },
     "execution_count": 22,
     "metadata": {},
     "output_type": "execute_result"
    }
   ],
   "source": [
    "submission_data = pd.DataFrame({'id': test_imgs, 'has_cactus': predictions.flatten()})\n",
    "submission_data.head(20)"
   ]
  },
  {
   "cell_type": "code",
   "execution_count": 23,
   "metadata": {},
   "outputs": [],
   "source": [
    "submission_data.to_csv('submission.csv', index=False)"
   ]
  },
  {
   "cell_type": "code",
   "execution_count": 24,
   "metadata": {},
   "outputs": [
    {
     "name": "stdout",
     "output_type": "stream",
     "text": [
      "id,has_cactus\r\n",
      "dadfb5ca7c1ded00aac585bdbea2c66c.jpg,0.9999987\r\n",
      "7f8ee9354b1a12c01832ee4115d703e8.jpg,0.00069224834\r\n",
      "546cb4e0e46927319d60c5b6d64521a2.jpg,4.8816204e-05\r\n",
      "ad7540778cc3cfdcc1ee326ae4659af8.jpg,1.0\r\n",
      "fd4f6c93466b6c3438e1d7b616328b00.jpg,1.0\r\n",
      "03854bb8a431afcc9995d639d7761055.jpg,0.57061726\r\n",
      "ab4b86f50eb4d2b936719b5f31fd1ed4.jpg,0.0013988316\r\n",
      "3d497d059c2c5a5680c7aab6dbe9d8c8.jpg,1.0\r\n",
      "119f2dd44df56fa4d8032199f4231353.jpg,0.9014509\r\n"
     ]
    }
   ],
   "source": [
    "!head submission.csv"
   ]
  },
  {
   "cell_type": "code",
   "execution_count": null,
   "metadata": {},
   "outputs": [],
   "source": []
  }
 ],
 "metadata": {
  "kernelspec": {
   "display_name": "Python 3",
   "language": "python",
   "name": "python3"
  },
  "language_info": {
   "codemirror_mode": {
    "name": "ipython",
    "version": 3
   },
   "file_extension": ".py",
   "mimetype": "text/x-python",
   "name": "python",
   "nbconvert_exporter": "python",
   "pygments_lexer": "ipython3",
   "version": "3.6.6"
  }
 },
 "nbformat": 4,
 "nbformat_minor": 1
}
